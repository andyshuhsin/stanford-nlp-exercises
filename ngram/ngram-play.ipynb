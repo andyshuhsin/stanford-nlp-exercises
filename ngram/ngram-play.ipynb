{
 "cells": [
  {
   "cell_type": "code",
   "execution_count": 2,
   "metadata": {
    "collapsed": false
   },
   "outputs": [
    {
     "name": "stdout",
     "output_type": "stream",
     "text": [
      "the: 0.0305\n",
      "and: 0.0296\n",
      "i: 0.0223\n",
      "to: 0.0209\n",
      "of: 0.0201\n",
      "a: 0.0159\n",
      "you: 0.0143\n",
      "my: 0.0138\n",
      "that: 0.0121\n",
      "in: 0.012\n",
      "is: 0.0105\n",
      "not: 0.0093\n",
      "for: 0.0091\n",
      "with: 0.0088\n",
      "it: 0.008\n",
      "be: 0.0077\n",
      "me: 0.0076\n",
      "your: 0.0076\n",
      "his: 0.0076\n",
      "this: 0.007\n"
     ]
    }
   ],
   "source": [
    "# Helper functions\n",
    "\n",
    "def head_dict(d, n = 20, digits = 4):\n",
    "    for key in sorted(d, key=d.get, reverse=True)[0:n]:\n",
    "        print(\"%s: %s\" % (key, round(d[key], digits)))\n",
    "\n",
    "def normalize_frequencies(d):\n",
    "    total = 0\n",
    "    for key in d:\n",
    "        total += d[key]\n",
    "    for key in d:\n",
    "        d[key] /= total_word_count\n",
    "    return d\n",
    "\n",
    "from collections import Counter\n",
    "\n",
    "text = open('shakespeare.txt').read()\n",
    "words = text.lower().replace(',', ' ').replace('.', ' ').split()\n",
    "\n",
    "# Unigram\n",
    "total_word_count = len(words)\n",
    "word_frequencies = Counter(words)\n",
    "\n",
    "unigram = normalize_frequencies(word_frequencies)\n",
    "\n",
    "head_dict(unigram)"
   ]
  },
  {
   "cell_type": "code",
   "execution_count": 3,
   "metadata": {
    "collapsed": false
   },
   "outputs": [
    {
     "name": "stdout",
     "output_type": "stream",
     "text": [
      "('i', 'am'): 0.002\n",
      "('of', 'the'): 0.0019\n",
      "('in', 'the'): 0.0018\n",
      "('i', 'have'): 0.0018\n",
      "('i', 'will'): 0.0017\n",
      "('to', 'the'): 0.0015\n",
      "('my', 'lord'): 0.0015\n",
      "('it', 'is'): 0.0011\n",
      "('to', 'be'): 0.0011\n",
      "('that', 'i'): 0.001\n",
      "('and', 'the'): 0.0009\n",
      "('i', 'do'): 0.0009\n",
      "('and', 'i'): 0.0008\n",
      "('of', 'my'): 0.0008\n",
      "('you', 'are'): 0.0007\n",
      "('is', 'the'): 0.0007\n",
      "('i', 'would'): 0.0007\n",
      "('the', 'king'): 0.0007\n",
      "('you', 'have'): 0.0007\n",
      "('he', 'is'): 0.0007\n"
     ]
    }
   ],
   "source": [
    "# Bigram\n",
    "\n",
    "bigram = {}\n",
    "\n",
    "for i in range(0, len(words) - 1):\n",
    "    key = (words[i], words[i+1])\n",
    "    try:\n",
    "        bigram[key] += 1\n",
    "    except KeyError:\n",
    "        bigram[key] = 1\n",
    "normalize_frequencies(bigram)\n",
    "head_dict(bigram)"
   ]
  },
  {
   "cell_type": "code",
   "execution_count": 4,
   "metadata": {
    "collapsed": false
   },
   "outputs": [
    {
     "name": "stdout",
     "output_type": "stream",
     "text": [
      "('if', 'you', 'are', 'not', 'to', 'the', 'king', 'henry', 'the', 'king', 'henry')\n",
      "('god', 'save', 'you', 'are', 'not', 'to', 'the', 'king', 'henry', 'the', 'king')\n",
      "('king', 'henry', 'the', 'king', 'henry', 'the', 'king', 'henry', 'the', 'king', 'henry')\n",
      "('hand', 'and', 'the', 'king', 'henry', 'the', 'king', 'henry', 'the', 'king', 'henry')\n"
     ]
    }
   ],
   "source": [
    "def shannon_ngram(words, ngram, length=10):\n",
    "    if length == 0:\n",
    "        return words\n",
    "    \n",
    "    n = len(list(ngram.keys())[0])\n",
    "    next_word = ''\n",
    "    max_p = 0\n",
    "    \n",
    "    for key in ngram:\n",
    "        if words[-n+1:] == key[:n-1] and ngram[key] > max_p:\n",
    "            next_word = key[-1]\n",
    "            max_p = ngram[key]\n",
    "            \n",
    "    return shannon_ngram(words + (next_word,), ngram, length - 1)\n",
    "#     A = words\n",
    "#     B = shannon_ngram(next_words, ngram, N-1)\n",
    "#     print(A)\n",
    "#     print(B)\n",
    "#     return A + B\n",
    "\n",
    "print(shannon_ngram(('if',), bigram))\n",
    "print(shannon_ngram(('god',), bigram))\n",
    "print(shannon_ngram(('king',), bigram))\n",
    "print(shannon_ngram(('hand',), bigram))"
   ]
  },
  {
   "cell_type": "code",
   "execution_count": 5,
   "metadata": {
    "collapsed": false
   },
   "outputs": [
    {
     "name": "stdout",
     "output_type": "stream",
     "text": [
      "('so', 'long', 'as'): 0.0003\n",
      "('works', 'of', 'william'): 0.0002\n",
      "('of', 'william', 'shakespeare'): 0.0002\n",
      "('complete', 'works', 'of'): 0.0002\n",
      "('the', 'complete', 'works'): 0.0002\n",
      "('world', 'library', 'inc'): 0.0002\n",
      "('of', 'the', 'complete'): 0.0002\n",
      "('by', 'project', 'gutenberg'): 0.0002\n",
      "('by', 'any', 'service'): 0.0002\n",
      "('long', 'as', 'such'): 0.0002\n",
      "('project', 'gutenberg', 'etext'): 0.0002\n",
      "('for', 'download', 'time'): 0.0002\n",
      "('is', 'provided', 'by'): 0.0002\n",
      "('are', 'for', 'your'): 0.0002\n",
      "('provided', 'by', 'project'): 0.0002\n",
      "('for', 'your', 'or'): 0.0002\n",
      "('and', '(2)', 'are'): 0.0002\n",
      "('version', 'of', 'the'): 0.0002\n",
      "('illinois', 'benedictine', 'college'): 0.0002\n",
      "('machine', 'readable', 'copies'): 0.0002\n"
     ]
    }
   ],
   "source": [
    "# Trigram\n",
    "\n",
    "trigram = {}\n",
    "\n",
    "for i in range(0, len(words) - 2):\n",
    "    key = (words[i], words[i+1], words[i+2])\n",
    "    try:\n",
    "        trigram[key] += 1\n",
    "    except KeyError:\n",
    "        trigram[key] = 1\n",
    "normalize_frequencies(trigram)\n",
    "head_dict(trigram)"
   ]
  },
  {
   "cell_type": "code",
   "execution_count": 7,
   "metadata": {
    "collapsed": false
   },
   "outputs": [
    {
     "name": "stdout",
     "output_type": "stream",
     "text": [
      "('if', 'you', 'will', 'not', 'be', 'so', 'bold', 'to', 'say', 'the', 'truth', 'of')\n",
      "('the', 'king', 'and', 'queen', 'and', 'her', 'two', 'sons', 'demetrius', 'and', 'chiron', 'with')\n"
     ]
    }
   ],
   "source": [
    "print(shannon_ngram(('if', 'you'), trigram))\n",
    "print(shannon_ngram(('the', 'king'), trigram))"
   ]
  },
  {
   "cell_type": "code",
   "execution_count": 1,
   "metadata": {
    "collapsed": false
   },
   "outputs": [
    {
     "ename": "NameError",
     "evalue": "name 'words' is not defined",
     "output_type": "error",
     "traceback": [
      "\u001b[0;31m---------------------------------------------------------------------------\u001b[0m",
      "\u001b[0;31mNameError\u001b[0m                                 Traceback (most recent call last)",
      "\u001b[0;32m<ipython-input-1-5b86ff760886>\u001b[0m in \u001b[0;36m<module>\u001b[0;34m()\u001b[0m\n\u001b[1;32m      1\u001b[0m \u001b[0;31m# Perplexity\u001b[0m\u001b[0;34m\u001b[0m\u001b[0;34m\u001b[0m\u001b[0m\n\u001b[1;32m      2\u001b[0m \u001b[0;34m\u001b[0m\u001b[0m\n\u001b[0;32m----> 3\u001b[0;31m \u001b[0mtest_data\u001b[0m \u001b[0;34m=\u001b[0m \u001b[0mwords\u001b[0m\u001b[0;34m[\u001b[0m\u001b[0;36m0\u001b[0m\u001b[0;34m:\u001b[0m\u001b[0mround\u001b[0m\u001b[0;34m(\u001b[0m\u001b[0mlen\u001b[0m\u001b[0;34m(\u001b[0m\u001b[0mwords\u001b[0m\u001b[0;34m)\u001b[0m \u001b[0;34m*\u001b[0m \u001b[0;36m0.8\u001b[0m\u001b[0;34m)\u001b[0m\u001b[0;34m]\u001b[0m\u001b[0;34m\u001b[0m\u001b[0m\n\u001b[0m\u001b[1;32m      4\u001b[0m \u001b[0mvalidation_data\u001b[0m \u001b[0;34m=\u001b[0m \u001b[0mwords\u001b[0m\u001b[0;34m[\u001b[0m\u001b[0mround\u001b[0m\u001b[0;34m(\u001b[0m\u001b[0mlen\u001b[0m\u001b[0;34m(\u001b[0m\u001b[0mwords\u001b[0m\u001b[0;34m)\u001b[0m \u001b[0;34m*\u001b[0m \u001b[0;36m0.8\u001b[0m\u001b[0;34m)\u001b[0m\u001b[0;34m+\u001b[0m\u001b[0;36m1\u001b[0m\u001b[0;34m:\u001b[0m\u001b[0;34m]\u001b[0m\u001b[0;34m\u001b[0m\u001b[0m\n",
      "\u001b[0;31mNameError\u001b[0m: name 'words' is not defined"
     ]
    }
   ],
   "source": [
    "# Perplexity\n",
    "\n",
    "test_data = words[0:round(len(words) * 0.8)]\n",
    "validation_data = words[round(len(words) * 0.8)+1:]"
   ]
  }
 ],
 "metadata": {
  "anaconda-cloud": {},
  "kernelspec": {
   "display_name": "Python [conda root]",
   "language": "python",
   "name": "conda-root-py"
  },
  "language_info": {
   "codemirror_mode": {
    "name": "ipython",
    "version": 3
   },
   "file_extension": ".py",
   "mimetype": "text/x-python",
   "name": "python",
   "nbconvert_exporter": "python",
   "pygments_lexer": "ipython3",
   "version": "3.5.2"
  }
 },
 "nbformat": 4,
 "nbformat_minor": 1
}
